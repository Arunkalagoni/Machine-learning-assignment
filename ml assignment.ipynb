{
 "cells": [
  {
   "cell_type": "code",
   "execution_count": 86,
   "id": "e00b898a",
   "metadata": {},
   "outputs": [
    {
     "name": "stdout",
     "output_type": "stream",
     "text": [
      "sorted ages: [19, 19, 20, 22, 24, 24, 24, 25, 25, 26]\n",
      "Minimum age: 19\n",
      "Maximum age: 26\n",
      "modified ages: [19, 19, 20, 22, 24, 24, 24, 25, 25, 26, 19, 26]\n",
      "median: 24.0\n",
      "Average: 22.75\n",
      "Range: 7\n"
     ]
    }
   ],
   "source": [
    "ages = [19, 22, 19, 24, 20, 25, 26, 24, 25, 24] \n",
    "\n",
    "ages.sort() \n",
    "\n",
    "print(\"sorted ages:\",ages) \n",
    "\n",
    "min_age=min(ages)#Finding minimum age using min() function. \n",
    "\n",
    "max_age=max(ages)#Finding maximum age using max() function. \n",
    "\n",
    "ages.append(min_age)#Adding minimum age to ages list \n",
    "\n",
    "ages.append(max_age)#Adding maximum age to ages list \n",
    "\n",
    "length=len(ages) \n",
    "\n",
    "mid=int(length/2) \n",
    "\n",
    "median=float(ages[mid-1]+ages[mid])/2#Finding median of ages. \n",
    "\n",
    "average=float(sum(ages)/length)#Finding average of ages. \n",
    "\n",
    "range=max_age-min_age#Finding range of ages. \n",
    "\n",
    "print(\"Minimum age:\",min_age) \n",
    "\n",
    "print(\"Maximum age:\",max_age) \n",
    "\n",
    "print(\"modified ages:\",ages) \n",
    "\n",
    "print(\"median:\",median) \n",
    "\n",
    "print(\"Average:\",average) \n",
    "\n",
    "print(\"Range:\",range) "
   ]
  },
  {
   "cell_type": "code",
   "execution_count": 90,
   "id": "9f622691",
   "metadata": {},
   "outputs": [
    {
     "name": "stdout",
     "output_type": "stream",
     "text": [
      "dog dictionary: {'name': 'Lusy', 'Color': 'White', 'Breed': 'Golden Retriever', 'legs': 4, 'age': 4}\n",
      "student: {'first_name': 'Arun', 'last_name': 'Kalagoni', 'gender': 'Male', 'age': 22, 'marital_status': 'single', 'address': 'overland park,ks', 'skills': ['Managment skill,communication skills'], 'city': 'KS'}\n",
      "length of student: 8\n",
      "value of student skills: ['Managment skill,communication skills']\n",
      "Type: <class 'list'>\n",
      "modified student: {'first_name': 'Arun', 'last_name': 'Kalagoni', 'gender': 'Male', 'age': 22, 'marital_status': 'single', 'address': 'overland park,ks', 'skills': ['Managment skill,communication skills', 'dancing', 'Acting'], 'city': 'KS'}\n",
      "keys of dictionary: dict_keys(['first_name', 'last_name', 'gender', 'age', 'marital_status', 'address', 'skills', 'city'])\n",
      "values of dictionary: dict_values(['Arun', 'Kalagoni', 'Male', 22, 'single', 'overland park,ks', ['Managment skill,communication skills', 'dancing', 'Acting'], 'KS'])\n"
     ]
    }
   ],
   "source": [
    "dog={}#creating empty dictionary\n",
    "dog={\"name\": \"Lusy\", \"Color\":\"White\",\"Breed\":\"Golden Retriever\",\"legs\":4,\"age\":4}#Adding name,color,breed,age,legs to dictionary\n",
    "print(\"dog dictionary:\",dog)\n",
    "student={}\n",
    "student[\"first_name\"]=\"Arun\"\n",
    "student[\"last_name\"]=\"Kalagoni\"\n",
    "student[\"gender\"]=\"Male\"\n",
    "student[\"age\"]=22\n",
    "student[\"marital_status\"]=\"single\"\n",
    "student[\"address\"]=\"overland park,ks\"\n",
    "student[\"skills\"]=[\"Managment skill,communication skills\"]\n",
    "student[\"city\"]=\"KS\"\n",
    "\n",
    "print(\"student:\",student)\n",
    "print(\"length of student:\",len(student))#Finding length of student.\n",
    "print(\"value of student skills:\",student.get(\"skills\"))#finding values of skills\n",
    "print(\"Type:\",type(student.get(\"skills\")))#finding type of skills key.\n",
    "student[\"skills\"]+=[\"dancing\",\"Acting\"]#Modifing skills by adding two new skills.\n",
    "print(\"modified student:\",student)\n",
    "print(\"keys of dictionary:\",student.keys())#getting keys of student dictionary.\n",
    "print(\"values of dictionary:\",student.values())#getting values of student dictionary."
   ]
  },
  {
   "cell_type": "code",
   "execution_count": 49,
   "id": "5bb9ab5d",
   "metadata": {},
   "outputs": [
    {
     "name": "stdout",
     "output_type": "stream",
     "text": [
      "sisters: ('sahasra', 'sahithi', 'Aishu', 'Laxshmi', 'Anusree')\n",
      "brothers: ('shiva', 'varun')\n",
      "siblings: ('sahasra', 'sahithi', 'Aishu', 'Laxshmi', 'Anusree', 'shiva', 'varun')\n",
      "Number of siblings: 7\n",
      "Family members: ('sahasra', 'sahithi', 'Aishu', 'Laxshmi', 'Anusree', 'shiva', 'varun', 'Jangaiah', 'sunitha')\n"
     ]
    }
   ],
   "source": [
    "sisters=(\"sahasra\",\"sahithi\",\"Aishu\",\"Laxshmi\",\"Anusree\")#creating sisters tuple.\n",
    "brothers=(\"shiva\",\"varun\")#creating brothers tuple\n",
    "print(\"sisters:\",sisters)\n",
    "print(\"brothers:\",brothers)\n",
    "siblings=sisters+brothers#Adding sisters and brothers tuple to siblings\n",
    "print(\"siblings:\",siblings)\n",
    "print(\"Number of siblings:\",len(siblings))\n",
    "family_members=siblings+(\"Jangaiah\",\"sunitha\")#Adding mother and father to siblings and assigning to family_members\n",
    "print(\"Family members:\",family_members)"
   ]
  },
  {
   "cell_type": "code",
   "execution_count": 92,
   "id": "048f812d",
   "metadata": {},
   "outputs": [
    {
     "name": "stdout",
     "output_type": "stream",
     "text": [
      "length of it_companies: 7\n",
      "{'Microsoft', 'Amazon', 'Twitter', 'Facebook', 'Google', 'Apple', 'IBM', 'Oracle'}\n",
      "{'Twitter', 'Google', 'Oracle', 'virtusa', 'Epam', 'Amazon', 'Facebook', 'Microsoft', 'Apple', 'IBM', 'cognizant'}\n",
      "{'Google', 'Oracle', 'virtusa', 'Epam', 'Amazon', 'Facebook', 'Microsoft', 'Apple', 'IBM', 'cognizant'}\n",
      "The difference between remove and discard the remove() method will raise an error if the specified item does not exist, and the discard() method will not.\n",
      "Joining A and B: {19, 20, 22, 24, 25, 26, 27, 28}\n",
      "intersection of A and b: {19, 20, 22, 24, 25, 26}\n",
      "A issubset of B: True\n",
      "A is isdisjoint of b: False\n",
      "joining A with B: {19, 20, 22, 24, 25, 26, 27, 28}\n",
      "joining B with A: {19, 20, 22, 24, 25, 26, 27, 28}\n",
      "A symmetric_difference B: {27, 28}\n",
      "set()\n",
      "set()\n",
      "set()\n",
      "length of set: 5\n",
      "length of list: 8\n"
     ]
    }
   ],
   "source": [
    "it_companies = {'Facebook', 'Google', 'Microsoft', 'Apple', 'IBM', 'Oracle', 'Amazon'}\n",
    "A = {19, 22, 24, 20, 25, 26}\n",
    "B = {19, 22, 20, 25, 26, 24, 28, 27}\n",
    "age = [22, 19, 24, 25, 26, 24, 25, 24]\n",
    "\n",
    "print(\"length of it_companies:\",len(it_companies))#Finding length of it_companies\n",
    "it_companies.add(\"Twitter\")#Adding Twitter to set.\n",
    "print(it_companies)\n",
    "it_companies.update([\"virtusa\",\"Epam\",\"cognizant\"])#updating the set with multiple items\n",
    "print(it_companies)\n",
    "it_companies.remove(\"Twitter\")#Removing the item from set\n",
    "print(it_companies)\n",
    "#What is the difference between remove and discard\n",
    "print(\"The difference between remove and discard the remove() method will raise an error if the specified item does not exist, and the discard() method will not.\")\n",
    "print(\"Joining A and B:\",A.union(B))#joining A and B\n",
    "print(\"intersection of A and b:\",A.intersection(B))#Finding intersection of A and B\n",
    "print(\"A issubset of B:\",A.issubset(B))#Finding A is subset to B\n",
    "print(\"A is isdisjoint of b:\",A.isdisjoint(B))#Finding A isdisjoint to B\n",
    "print(\"joining A with B:\",A.union(B))# joining A with B using union function\n",
    "print(\"joining B with A:\",B.union(A))# joining B with A using union function\n",
    "print(\"A symmetric_difference B:\",A.symmetric_difference(B))\n",
    "it_companies.clear()# deleting sets completely \n",
    "A.clear()# deleting sets completely \n",
    "B.clear()# deleting sets completely \n",
    "print(A)\n",
    "print(B)\n",
    "print(it_companies)\n",
    "Ages=set(age)\n",
    "print(\"length of set:\",len(Ages))\n",
    "print(\"length of list:\",len(age))"
   ]
  },
  {
   "cell_type": "code",
   "execution_count": 54,
   "id": "126a5f5b",
   "metadata": {},
   "outputs": [
    {
     "name": "stdout",
     "output_type": "stream",
     "text": [
      "Area of circle: 2826.0\n",
      " circumference of a circle: 188.4\n",
      "enetr the radius:5\n",
      "Area of circle from user input: 78.5\n"
     ]
    }
   ],
   "source": [
    "pi=3.14\n",
    "radius=30\n",
    "area_of_circle=pi*radius*radius\n",
    "print(\"Area of circle:\",area_of_circle)#calculating Area of circle\n",
    "circum_of_circle=2*pi*radius#calculating circumference of a circle\n",
    "print(\"circumference of a circle:\",circum_of_circle)\n",
    "#taking radius as user input\n",
    "rad=float(input(\"enter the radius:\"))\n",
    "area_of_circle1=pi*rad*rad\n",
    "print(\"Area of circle from user input:\",area_of_circle1)"
   ]
  },
  {
   "cell_type": "code",
   "execution_count": 71,
   "id": "89bcc460",
   "metadata": {},
   "outputs": [
    {
     "name": "stdout",
     "output_type": "stream",
     "text": [
      "{'to', 'people', 'teach', 'am', 'I', 'love', 'teacher', 'a', 'inspire', 'and'}\n",
      "Number of unique words: 10\n"
     ]
    }
   ],
   "source": [
    "string=\"I am a teacher and I love to inspire and teach people\"\n",
    "split1=set(string.split())#converting into set and spliting the string\n",
    "print(split1)\n",
    "print(\"Number of unique words:\",len(split1))#finding no of unique words"
   ]
  },
  {
   "cell_type": "code",
   "execution_count": 72,
   "id": "990280a1",
   "metadata": {},
   "outputs": [
    {
     "name": "stdout",
     "output_type": "stream",
     "text": [
      "Name\tAge\tCountry\tCity\n",
      "Asabeneh\t250\tFinland\tHelsinki\n"
     ]
    }
   ],
   "source": [
    "print(\"Name\\tAge\\tCountry\\tCity\\nAsabeneh\\t250\\tFinland\\tHelsinki\")"
   ]
  },
  {
   "cell_type": "code",
   "execution_count": 73,
   "id": "e72ba2e3",
   "metadata": {},
   "outputs": [
    {
     "name": "stdout",
     "output_type": "stream",
     "text": [
      "The area of a circle with radius 10 is 314 meters square.\n"
     ]
    }
   ],
   "source": [
    "radius = 10\n",
    "area = 3.14*radius**2#calculating the area\n",
    "print(\"The area of a circle with radius %d is %d meters square.\"%(radius,area))"
   ]
  },
  {
   "cell_type": "code",
   "execution_count": 84,
   "id": "ddaa2713",
   "metadata": {},
   "outputs": [
    {
     "name": "stdout",
     "output_type": "stream",
     "text": [
      "Enter no of students:5\n",
      "Enter weightsin lbs\n",
      "45 78 56 55 12\n",
      "Weights in kgs: [20.25, 35.1, 25.2, 24.75, 5.4]\n"
     ]
    }
   ],
   "source": [
    "N=int(input(\"Enter no of students:\"))# taking the user input\n",
    "print(\"Enter weightsin lbs\")\n",
    "weights=list(map(int,input().split()))\n",
    "nweights=[]\n",
    "for i in weights:\n",
    "    nweights.append(i*0.45)#coverting into kgs\n",
    "print(\"Weights in kgs:\",nweights)"
   ]
  },
  {
   "cell_type": "code",
   "execution_count": null,
   "id": "1904c649",
   "metadata": {},
   "outputs": [],
   "source": []
  },
  {
   "cell_type": "code",
   "execution_count": null,
   "id": "f34067e3",
   "metadata": {},
   "outputs": [],
   "source": []
  }
 ],
 "metadata": {
  "kernelspec": {
   "display_name": "Python 3 (ipykernel)",
   "language": "python",
   "name": "python3"
  },
  "language_info": {
   "codemirror_mode": {
    "name": "ipython",
    "version": 3
   },
   "file_extension": ".py",
   "mimetype": "text/x-python",
   "name": "python",
   "nbconvert_exporter": "python",
   "pygments_lexer": "ipython3",
   "version": "3.9.13"
  }
 },
 "nbformat": 4,
 "nbformat_minor": 5
}
